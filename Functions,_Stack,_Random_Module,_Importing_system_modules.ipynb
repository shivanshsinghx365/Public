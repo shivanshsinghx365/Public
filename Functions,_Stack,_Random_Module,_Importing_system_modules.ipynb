{
  "nbformat": 4,
  "nbformat_minor": 0,
  "metadata": {
    "colab": {
      "name": "Functions, Stack, Random Module, Importing system modules.ipynb",
      "provenance": [],
      "collapsed_sections": [],
      "include_colab_link": true
    },
    "kernelspec": {
      "name": "python3",
      "display_name": "Python 3"
    }
  },
  "cells": [
    {
      "cell_type": "markdown",
      "metadata": {
        "id": "view-in-github",
        "colab_type": "text"
      },
      "source": [
        "<a href=\"https://colab.research.google.com/github/shivanshsinghx365/Public/blob/main/Functions%2C_Stack%2C_Random_Module%2C_Importing_system_modules.ipynb\" target=\"_parent\"><img src=\"https://colab.research.google.com/assets/colab-badge.svg\" alt=\"Open In Colab\"/></a>"
      ]
    },
    {
      "cell_type": "code",
      "metadata": {
        "id": "GGBvjhKXzBSN"
      },
      "source": [
        "#Functions : 25-1-2021"
      ],
      "execution_count": null,
      "outputs": []
    },
    {
      "cell_type": "code",
      "metadata": {
        "id": "o6zaosTTzYop",
        "colab": {
          "base_uri": "https://localhost:8080/"
        },
        "outputId": "3ef5f811-c077-4d9a-f5ff-679c5d50ec56"
      },
      "source": [
        "#Program to illustrate the working of positional arguments\r\n",
        "\r\n",
        "def divide(a,b):          #formal parameters \r\n",
        "    c=a//b                #integer division\r\n",
        "    return c              #function value\r\n",
        "x=int(input('Enter a number'))\r\n",
        "y=int(input('Enter a number'))\r\n",
        "z=divide(x,y)             #actual parameters\r\n",
        "print(z)"
      ],
      "execution_count": null,
      "outputs": [
        {
          "output_type": "stream",
          "text": [
            "Enter a number10\n",
            "Enter a number5\n",
            "2\n"
          ],
          "name": "stdout"
        }
      ]
    },
    {
      "cell_type": "code",
      "metadata": {
        "id": "qcLQSQT9zZvR",
        "colab": {
          "base_uri": "https://localhost:8080/"
        },
        "outputId": "ef772af0-186c-46a7-9673-aa4c0ab492ff"
      },
      "source": [
        "#Program to illustrate the working of default arguments\r\n",
        "\r\n",
        "#Default arguments are the values provided to the formal arguments                                                                         \r\n",
        "\r\n",
        "def SI(p,r=0.02,t=2):    #default values are given to r and t\r\n",
        "    return (p*r*t)\r\n",
        "p=int(input('Enter the principal amount'))\r\n",
        "r=int(input('Enter the rate'))\r\n",
        "t=int(input('Enter the time'))\r\n",
        "print('Function called with single argument, answer=',SI(p)) #Two of the default arguments given are used\r\n",
        "print('Function called with two arguments, answer=',SI(p,r)) #One of the default arguements given are used\r\n",
        "print('Function called with all the arguments, answer=',SI(p,r,t)) #No default arguments given are used"
      ],
      "execution_count": null,
      "outputs": [
        {
          "output_type": "stream",
          "text": [
            "Enter the principal amount5000\n",
            "Enter the rate2\n",
            "Enter the time2\n",
            "Function called with single argument, answer= 200.0\n",
            "Function called with two arguments, answer= 20000\n",
            "Function called with all the arguments, answer= 20000\n"
          ],
          "name": "stdout"
        }
      ]
    },
    {
      "cell_type": "code",
      "metadata": {
        "id": "8iIpyAO7za4S",
        "colab": {
          "base_uri": "https://localhost:8080/"
        },
        "outputId": "a72f4c37-9839-4c61-fbdc-6955de0dcde4"
      },
      "source": [
        "#Program to illustrate the working of Keyword arguments in Python\r\n",
        "\r\n",
        "def drawlines(s,t=30):\r\n",
        "    for i in range(t):\r\n",
        "        print(s,end=' ')\r\n",
        "    print() #To go to the next line\r\n",
        "drawlines('*',40)\r\n",
        "drawlines('@')\r\n",
        "drawlines(t=10,s='^') #Keyword arguments in play\r\n",
        "drawlines('#',t=20)"
      ],
      "execution_count": null,
      "outputs": [
        {
          "output_type": "stream",
          "text": [
            "* * * * * * * * * * * * * * * * * * * * * * * * * * * * * * * * * * * * * * * * \n",
            "@ @ @ @ @ @ @ @ @ @ @ @ @ @ @ @ @ @ @ @ @ @ @ @ @ @ @ @ @ @ \n",
            "^ ^ ^ ^ ^ ^ ^ ^ ^ ^ \n",
            "# # # # # # # # # # # # # # # # # # # # \n"
          ],
          "name": "stdout"
        }
      ]
    },
    {
      "cell_type": "code",
      "metadata": {
        "colab": {
          "base_uri": "https://localhost:8080/"
        },
        "id": "jZujY4pxzb46",
        "outputId": "596f93b0-fdd6-44dc-e377-7ff552a3b020"
      },
      "source": [
        "#Write a program to illustrate the working of variable length arguments in Python functions, This is also illustrating the packing of data\r\n",
        "def add(x,y,z):\r\n",
        "  return x+10,y+10,z+10\r\n",
        "a=int(input('Enter the first number'))\r\n",
        "b=int(input('Enter the second number'))\r\n",
        "c=int(input('Enter the third number'))\r\n",
        "k=add(a,b,c) #Since three variables are coming from the function, the data type of k will be a tuple. \r\n",
        "print(k)"
      ],
      "execution_count": null,
      "outputs": [
        {
          "output_type": "stream",
          "text": [
            "Enter the first number5\n",
            "Enter the second number2\n",
            "Enter the third number7\n",
            "(15, 12, 17)\n"
          ],
          "name": "stdout"
        }
      ]
    },
    {
      "cell_type": "code",
      "metadata": {
        "colab": {
          "base_uri": "https://localhost:8080/"
        },
        "id": "85EspESa0ANJ",
        "outputId": "188bae36-acdc-440b-fa77-7c35858311ac"
      },
      "source": [
        "#Unpacking of multiple values in a tuple\r\n",
        "def add(x,y,z):\r\n",
        "  return x+10,y+10,z+10\r\n",
        "a=int(input('Enter the first number'))\r\n",
        "b=int(input('Enter the second number'))\r\n",
        "c=int(input('Enter the third number'))\r\n",
        "p,q,r=add(a,b,c)\r\n",
        "print(p,q,r)"
      ],
      "execution_count": null,
      "outputs": [
        {
          "output_type": "stream",
          "text": [
            "Enter the first number5\n",
            "Enter the second number2\n",
            "Enter the third number7\n",
            "15 12 17\n"
          ],
          "name": "stdout"
        }
      ]
    },
    {
      "cell_type": "code",
      "metadata": {
        "id": "3Bq1hQ3r0xFq",
        "colab": {
          "base_uri": "https://localhost:8080/"
        },
        "outputId": "4c8b35e6-0e7c-44f0-ecb7-2061966ff3af"
      },
      "source": [
        "#Program to illustrate the working of local and global variables\r\n",
        "def area(length,breadth):\r\n",
        "  a=length*breadth\r\n",
        "  return(a) #a is a local variable which is declared inside the function\r\n",
        "def showarea():\r\n",
        "  print('The area=',ar)  #ar is accessible in the function because it is a global variable and it is declared in the main program\r\n",
        "l=int(input('Enter the length'))\r\n",
        "b=int(input('Enter the breadth'))\r\n",
        "ar=area(l,b)\r\n",
        "showarea()"
      ],
      "execution_count": null,
      "outputs": [
        {
          "output_type": "stream",
          "text": [
            "Enter the length10\n",
            "Enter the breadth5\n",
            "The area= 50\n"
          ],
          "name": "stdout"
        }
      ]
    },
    {
      "cell_type": "code",
      "metadata": {
        "colab": {
          "base_uri": "https://localhost:8080/"
        },
        "id": "WBfLO_GY9NTz",
        "outputId": "a44e64e7-fbd8-4ea7-db28-fe05fe2d8cd6"
      },
      "source": [
        "#Program to Illustrate the keyword 'Global'\r\n",
        "#Global keyword is used inside a function. When we write the keyword global, function and the main program is sharing one location.\r\n",
        "def check():\r\n",
        "  global value\r\n",
        "  value=100\r\n",
        "  print(value)\r\n",
        "value=600\r\n",
        "print(value)\r\n",
        "check()\r\n",
        "print(value)"
      ],
      "execution_count": null,
      "outputs": [
        {
          "output_type": "stream",
          "text": [
            "600\n",
            "100\n",
            "100\n"
          ],
          "name": "stdout"
        }
      ]
    },
    {
      "cell_type": "code",
      "metadata": {
        "id": "gZuvEzGX-avW",
        "colab": {
          "base_uri": "https://localhost:8080/"
        },
        "outputId": "9c5ceed6-963c-43d8-f75a-fde0d0e8868e"
      },
      "source": [
        "#Write a function which will take a string as an argument and count the number of vowels in the string\r\n",
        "def countvowel():\r\n",
        "  s=input('Enter the string')\r\n",
        "  count=0\r\n",
        "  for i in s:\r\n",
        "    if i=='a' or i=='e' or i=='i' or i=='o' or i=='u':\r\n",
        "      count=count+1\r\n",
        "  print(count)\r\n",
        "countvowel()"
      ],
      "execution_count": null,
      "outputs": [
        {
          "output_type": "stream",
          "text": [
            "Enter the stringvivek\n",
            "2\n"
          ],
          "name": "stdout"
        }
      ]
    },
    {
      "cell_type": "code",
      "metadata": {
        "colab": {
          "base_uri": "https://localhost:8080/"
        },
        "id": "73FVh4cw_ZSk",
        "outputId": "7104baae-cc8f-4819-f434-4abffbb7e8b6"
      },
      "source": [
        "#Write a program to accpet a string and jumbled cases of the letters (PASSING A STRING TO A FUNCTION)\r\n",
        "s=input('Enter the string')\r\n",
        "s1=''\r\n",
        "for i in s:\r\n",
        "  if i.isupper():\r\n",
        "    s1=s1+i.lower()\r\n",
        "  if i.islower():\r\n",
        "    s1=s1+i.upper()\r\n",
        "print(s1)"
      ],
      "execution_count": null,
      "outputs": [
        {
          "output_type": "stream",
          "text": [
            "Enter the stringvIveK\n",
            "ViVEk\n"
          ],
          "name": "stdout"
        }
      ]
    },
    {
      "cell_type": "code",
      "metadata": {
        "id": "KYcG2XCmBeqP"
      },
      "source": [
        "#PASSING A LIST TO A FUNCTIONB"
      ],
      "execution_count": null,
      "outputs": []
    },
    {
      "cell_type": "code",
      "metadata": {
        "colab": {
          "base_uri": "https://localhost:8080/"
        },
        "id": "AElveyvSD8Uz",
        "outputId": "0ccadc70-66dd-43ad-852a-7ccf37a02e03"
      },
      "source": [
        "#Write a program to pass a list to the functionm, add 2 to all the even values of the list and 1 to all the odd values of the list\r\n",
        "def fun1(t):\r\n",
        "  t1=[]\r\n",
        "  for i in t:\r\n",
        "    n=0\r\n",
        "    if i%2==0:\r\n",
        "      n=i+2\r\n",
        "      t1.append(n)\r\n",
        "    if i%2!=0:\r\n",
        "      n=i+1\r\n",
        "      t1.append(n)\r\n",
        "  print(t1)\r\n",
        "t=[1,2,3,4,5]\r\n",
        "fun1(t)"
      ],
      "execution_count": null,
      "outputs": [
        {
          "output_type": "stream",
          "text": [
            "[2, 4, 4, 6, 6]\n"
          ],
          "name": "stdout"
        }
      ]
    },
    {
      "cell_type": "code",
      "metadata": {
        "colab": {
          "base_uri": "https://localhost:8080/"
        },
        "id": "5Ozwj8HIMftw",
        "outputId": "cc9a3ceb-899f-45a4-b34f-749a9ae23571"
      },
      "source": [
        "#Input n numbers to a tuple and pass this tuple to a function and count how many even and odd numbers are present\r\n",
        "def insert_tup():\r\n",
        "  t=()\r\n",
        "  n=int(input('Enter the number of elements in the tuple'))\r\n",
        "  for i in range(n):\r\n",
        "    k=eval(input('Enter the element you wish to enter'))\r\n",
        "    t=t+(k,)\r\n",
        "  print(t)\r\n",
        "insert_tup()\r\n",
        "def countfun(t):\r\n",
        "  even=0\r\n",
        "  odd=0\r\n",
        "  for i in t:\r\n",
        "    if i%2==0:\r\n",
        "      even=even+1\r\n",
        "    if i%2!=0:\r\n",
        "      odd=odd+1\r\n",
        "  print('even',even)\r\n",
        "  print('odd',odd)\r\n",
        "countfun(t)"
      ],
      "execution_count": null,
      "outputs": [
        {
          "output_type": "stream",
          "text": [
            "Enter the number of elements in the tuple3\n",
            "Enter the element you wish to enter2\n",
            "Enter the element you wish to enter1\n",
            "Enter the element you wish to enter1\n",
            "(2, 1, 1)\n",
            "even 0\n",
            "odd 2\n"
          ],
          "name": "stdout"
        }
      ]
    },
    {
      "cell_type": "code",
      "metadata": {
        "id": "7mThT5xzNMPS"
      },
      "source": [
        "#Passing a dictionary to a function"
      ],
      "execution_count": null,
      "outputs": []
    },
    {
      "cell_type": "code",
      "metadata": {
        "colab": {
          "base_uri": "https://localhost:8080/"
        },
        "id": "kVqsHxdgN9yt",
        "outputId": "6a71ede4-7c0f-40aa-cd77-de2a4b0b19dc"
      },
      "source": [
        "#Program to pass a dictionary to a function and update the value based on the key passed\r\n",
        "def update(d,key,value):\r\n",
        "  d[key]=value\r\n",
        "d={'RollNo':1,'Name':'Vivek','Percentage':90}\r\n",
        "print(d)\r\n",
        "print('1.update:Rollno,2.update:Name,3.update:Percentage')\r\n",
        "choice=int(input('Enter your choice'))\r\n",
        "if choice==1:\r\n",
        "  p=int(input('Enter the new RollNo'))\r\n",
        "  key='RollNo'\r\n",
        "elif choice==2:\r\n",
        "  p=input('Enter the new name')\r\n",
        "  key='Name'\r\n",
        "elif choice==3:\r\n",
        "  p=int(input('Enter the new percentage'))\r\n",
        "  key='Percentage'\r\n",
        "else:\r\n",
        "  print('Wrong choice')\r\n",
        "update(d,key,p)\r\n",
        "print(d)"
      ],
      "execution_count": null,
      "outputs": [
        {
          "output_type": "stream",
          "text": [
            "{'RollNo': 1, 'Name': 'Vivek', 'Percentage': 90}\n",
            "1.update:Rollno,2.update:Name,3.update:Percentage\n",
            "Enter your choice1\n",
            "Enter the new RollNo23\n",
            "{'RollNo': 23, 'Name': 'Vivek', 'Percentage': 90}\n"
          ],
          "name": "stdout"
        }
      ]
    },
    {
      "cell_type": "code",
      "metadata": {
        "id": "357pYASXQFPJ"
      },
      "source": [
        "#Write a program to implement stack\r\n",
        "#Push() - This function is used to insert elements into the stack\r\n",
        "#pop() - This function is used to remove the last element of the stack \r\n",
        "#peek() - This function is used to note position of top\r\n",
        "#top is the position or index to which insertion or deletion takes place"
      ],
      "execution_count": null,
      "outputs": []
    },
    {
      "cell_type": "code",
      "metadata": {
        "colab": {
          "base_uri": "https://localhost:8080/"
        },
        "id": "jgQG9ak-swEZ",
        "outputId": "65e07457-e313-4d00-9052-d15d31e86210"
      },
      "source": [
        "def emptystack(s):\r\n",
        "  if s==[]:\r\n",
        "    return True\r\n",
        "  else:\r\n",
        "    return False\r\n",
        "def push(s,num):\r\n",
        "  global top\r\n",
        "  s.append(num)\r\n",
        "  top=len(s)-1\r\n",
        "def pops(s):\r\n",
        "  global top\r\n",
        "  if emptystack(s):\r\n",
        "    return 'Stack is empty'\r\n",
        "  else:\r\n",
        "    num=s[top]\r\n",
        "    s.pop()\r\n",
        "    if len(s)==0:\r\n",
        "      top=None\r\n",
        "    else:\r\n",
        "      return num\r\n",
        "def peek(s):\r\n",
        "  global top\r\n",
        "  if emptystack(s):\r\n",
        "    return 'Stack is empty'\r\n",
        "  else:\r\n",
        "    top=len(s)-1\r\n",
        "    return top\r\n",
        "def displaystack(s):\r\n",
        "  global top\r\n",
        "  if emptystack(s):\r\n",
        "    return 'Stack is empty'\r\n",
        "  else:\r\n",
        "    top=len(s)-1\r\n",
        "    for i in range(top,-1,-1):\r\n",
        "      print(s[i])\r\n",
        "ch='Y'\r\n",
        "s=[]\r\n",
        "top=None\r\n",
        "while ch=='Y':\r\n",
        "  print('1.Insert an element into the stack')\r\n",
        "  print('2.Delete an element from the stack')\r\n",
        "  print('3.Display elements of the stack')\r\n",
        "  print('4.Exit')\r\n",
        "  choice=int(input('Enter your choice'))\r\n",
        "  if choice==1:\r\n",
        "    num=int(input('Enter the number'))\r\n",
        "    push(s,num)\r\n",
        "  if choice==2:\r\n",
        "    k=pop(s)\r\n",
        "    print('The element delete is,',k)\r\n",
        "  if choice==3:\r\n",
        "    print('The stack now is',displaystack(s))\r\n",
        "  if choice==4:\r\n",
        "    break\r\n",
        "  ch=input('Do you want to continue - Y/N')\r\n",
        "  if ch=='Y':\r\n",
        "    continue\r\n",
        "  else:\r\n",
        "    break"
      ],
      "execution_count": null,
      "outputs": [
        {
          "output_type": "stream",
          "text": [
            "1.Insert an element into the stack\n",
            "2.Delete an element from the stack\n",
            "3.Display elements of the stack\n",
            "4.Exit\n",
            "Enter your choice3\n",
            "The stack now is Stack is empty\n",
            "Do you want to continue - Y/NN\n"
          ],
          "name": "stdout"
        }
      ]
    },
    {
      "cell_type": "code",
      "metadata": {
        "id": "v3rqS6NUxwZC"
      },
      "source": [
        "#Illustration of random module"
      ],
      "execution_count": null,
      "outputs": []
    },
    {
      "cell_type": "code",
      "metadata": {
        "colab": {
          "base_uri": "https://localhost:8080/"
        },
        "id": "4M-Vd9jP3I4h",
        "outputId": "e3a9e015-77e1-4e6c-8494-0b13f6e1685e"
      },
      "source": [
        "#Program to illustrate random()\r\n",
        "#random() returns a floating point number between 0.0 and 1.0\r\n",
        "import random\r\n",
        "k=random.random()\r\n",
        "print(k)"
      ],
      "execution_count": null,
      "outputs": [
        {
          "output_type": "stream",
          "text": [
            "0.960391628032428\n"
          ],
          "name": "stdout"
        }
      ]
    },
    {
      "cell_type": "code",
      "metadata": {
        "colab": {
          "base_uri": "https://localhost:8080/"
        },
        "id": "W_Pbxap-3fIf",
        "outputId": "0075c2f6-03d2-4309-ea6a-5f20b5a9b690"
      },
      "source": [
        "#Program to illustrate the working of randint()\r\n",
        "#randint() returns an integer between the range, both the range limits are inclusive\r\n",
        "#randint(10,20) will generate an integer between 10 and 20, inclusive both 10 and 20\r\n",
        "import random\r\n",
        "k=random.randint(1,7)\r\n",
        "print(k)"
      ],
      "execution_count": null,
      "outputs": [
        {
          "output_type": "stream",
          "text": [
            "1\n"
          ],
          "name": "stdout"
        }
      ]
    },
    {
      "cell_type": "code",
      "metadata": {
        "colab": {
          "base_uri": "https://localhost:8080/"
        },
        "id": "J7NF2anP4H3t",
        "outputId": "6d0a9e4a-2206-4f67-fabb-e442c3f6a2e4"
      },
      "source": [
        "#randrange() - There are two ways in which randrange can be used in two ways\r\n",
        "#randrange() - This function will give integer as an output\r\n",
        "#randrange() - If we write randrange(n), it will generate an integer between 0 to n-1\r\n",
        "import random\r\n",
        "k=random.randrange(1,100,3)\r\n",
        "print(k)"
      ],
      "execution_count": null,
      "outputs": [
        {
          "output_type": "stream",
          "text": [
            "55\n"
          ],
          "name": "stdout"
        }
      ]
    },
    {
      "cell_type": "code",
      "metadata": {
        "colab": {
          "base_uri": "https://localhost:8080/"
        },
        "id": "fyT0ocno48AN",
        "outputId": "2b3a4559-abfb-4c33-8f68-bb0b044b8aad"
      },
      "source": [
        "#Another method of randrange()\r\n",
        "import random\r\n",
        "k=random.randrange(1,7)\r\n",
        "print(k)"
      ],
      "execution_count": null,
      "outputs": [
        {
          "output_type": "stream",
          "text": [
            "3\n"
          ],
          "name": "stdout"
        }
      ]
    },
    {
      "cell_type": "code",
      "metadata": {
        "colab": {
          "base_uri": "https://localhost:8080/"
        },
        "id": "1Be-5Qac5S0I",
        "outputId": "cba7d45a-e04e-4867-b850-8a69bf5b3d4c"
      },
      "source": [
        "#Importing system modules\r\n",
        "import math\r\n",
        "print(math.sqrt(25))\r\n",
        "print(math.log10(100))"
      ],
      "execution_count": null,
      "outputs": [
        {
          "output_type": "stream",
          "text": [
            "5.0\n",
            "2.0\n"
          ],
          "name": "stdout"
        }
      ]
    },
    {
      "cell_type": "code",
      "metadata": {
        "colab": {
          "base_uri": "https://localhost:8080/"
        },
        "id": "JMMQNOsBAsV4",
        "outputId": "bed7225e-bc19-4f2e-931d-69890ec3a054"
      },
      "source": [
        "from math import sqrt,log10\r\n",
        "print(sqrt(25))\r\n",
        "print(log10(100))"
      ],
      "execution_count": null,
      "outputs": [
        {
          "output_type": "stream",
          "text": [
            "5.0\n",
            "2.0\n"
          ],
          "name": "stdout"
        }
      ]
    },
    {
      "cell_type": "code",
      "metadata": {
        "colab": {
          "base_uri": "https://localhost:8080/"
        },
        "id": "yA_v2QqWBB28",
        "outputId": "a973f02d-ec1f-4849-9e25-98cee2b0ad7f"
      },
      "source": [
        "from math import *\r\n",
        "print(abs(-20.0))"
      ],
      "execution_count": null,
      "outputs": [
        {
          "output_type": "stream",
          "text": [
            "20.0\n"
          ],
          "name": "stdout"
        }
      ]
    },
    {
      "cell_type": "code",
      "metadata": {
        "id": "iIYNE-KIBWgu"
      },
      "source": [
        ""
      ],
      "execution_count": null,
      "outputs": []
    }
  ]
}