{
  "nbformat": 4,
  "nbformat_minor": 0,
  "metadata": {
    "colab": {
      "name": "Stacks&FileHandling.ipynb",
      "provenance": [],
      "collapsed_sections": [],
      "authorship_tag": "ABX9TyNaCJ+fFvVrg8mhcVhLCAsI",
      "include_colab_link": true
    },
    "kernelspec": {
      "name": "python3",
      "display_name": "Python 3"
    }
  },
  "cells": [
    {
      "cell_type": "markdown",
      "metadata": {
        "id": "view-in-github",
        "colab_type": "text"
      },
      "source": [
        "<a href=\"https://colab.research.google.com/github/shivanshsinghx365/Public/blob/main/Stacks%26FileHandling.ipynb\" target=\"_parent\"><img src=\"https://colab.research.google.com/assets/colab-badge.svg\" alt=\"Open In Colab\"/></a>"
      ]
    },
    {
      "cell_type": "code",
      "metadata": {
        "id": "nR4P-aHqTcbF"
      },
      "source": [
        "f=open('Story.txt','w')\n",
        "s=\"\"\"hii This python\n",
        "i want to SAy hello world\"\"\"\n",
        "f.write(s)\n",
        "f.close()"
      ],
      "execution_count": null,
      "outputs": []
    },
    {
      "cell_type": "code",
      "metadata": {
        "colab": {
          "base_uri": "https://localhost:8080/"
        },
        "id": "CZUWPDGOVxtW",
        "outputId": "d49cf7eb-d1c4-48e7-cf8c-c216240010f5"
      },
      "source": [
        "def funx():\n",
        "  f=open('Story.txt','r')\n",
        "  k=0\n",
        "  for i in f.read():\n",
        "    if i.isupper():\n",
        "      k+=1\n",
        "  print('Number of Capital letters is ',k)\n",
        "  f.close()\n",
        "funx()"
      ],
      "execution_count": null,
      "outputs": [
        {
          "output_type": "stream",
          "text": [
            "Number of Capital letters is  3\n"
          ],
          "name": "stdout"
        }
      ]
    },
    {
      "cell_type": "code",
      "metadata": {
        "colab": {
          "base_uri": "https://localhost:8080/"
        },
        "id": "PN41XVh9WVK8",
        "outputId": "4fd27a79-00b2-4eb5-c9f6-9fde2a3f1eca"
      },
      "source": [
        "f=open('x.txt','w')\n",
        "d='''to the principal\n",
        "The school is good'''\n",
        "f.write(d)\n",
        "f.close()\n",
        "f=open('x.txt','r')\n",
        "k=0\n",
        "l=0\n",
        "for i in f.readlines():\n",
        "  for j in i.split():\n",
        "    if j==\"to\" or j==\"To\":\n",
        "      k+=1\n",
        "    if j=='the' or j==\"The\":\n",
        "      l+=1\n",
        "print('number of to= ',k)\n",
        "print('number of the=',l)"
      ],
      "execution_count": null,
      "outputs": [
        {
          "output_type": "stream",
          "text": [
            "number of to=  1\n",
            "number of the= 2\n"
          ],
          "name": "stdout"
        }
      ]
    },
    {
      "cell_type": "code",
      "metadata": {
        "colab": {
          "base_uri": "https://localhost:8080/"
        },
        "id": "CaSOKP_EXUI4",
        "outputId": "bd2aff33-bb2e-4787-8b25-02244f00fb20"
      },
      "source": [
        "f=open('x.txt','r')\n",
        "print(len(f.read()))"
      ],
      "execution_count": null,
      "outputs": [
        {
          "output_type": "stream",
          "text": [
            "35\n"
          ],
          "name": "stdout"
        }
      ]
    },
    {
      "cell_type": "code",
      "metadata": {
        "colab": {
          "base_uri": "https://localhost:8080/"
        },
        "id": "lo6t8mvUX6Dc",
        "outputId": "f015b928-d869-4007-9046-3ca8356b7c69"
      },
      "source": [
        "f=open('x.txt','r')\n",
        "x=0\n",
        "k=f.readlines()\n",
        "for i in k:\n",
        "  if i[0]==\"t\" or i[0]=='T':\n",
        "    x+=1\n",
        "print(x)\n",
        "f.close()"
      ],
      "execution_count": null,
      "outputs": [
        {
          "output_type": "stream",
          "text": [
            "2\n"
          ],
          "name": "stdout"
        }
      ]
    },
    {
      "cell_type": "code",
      "metadata": {
        "id": "LI3jtTYBYpai",
        "colab": {
          "base_uri": "https://localhost:8080/"
        },
        "outputId": "c389ed8e-8069-4ff4-d326-0f6e75672441"
      },
      "source": [
        "import pickle\n",
        "f=open('student.dat','ab')\n",
        "a='y'\n",
        "while a=='y':\n",
        "  l=[]\n",
        "  rollno=int(input('Enter the rollno'))\n",
        "  name=input('Enter name')\n",
        "  age=int(input('Enter age'))\n",
        "  l.append(rollno)\n",
        "  l.append(name)\n",
        "  l.append(age)\n",
        "  pickle.dump(l,f)\n",
        "  a=input('Do you want to enter more records(y/n)?')\n",
        "  if a=='y':\n",
        "    continue\n",
        "  else:\n",
        "    break\n",
        "  f.close()\n",
        "  f=open('student.dat','rb')\n",
        "  try:\n",
        "    while True:\n",
        "      l=pickle.load(f)\n",
        "      if l[3]>25:\n",
        "        print(l)\n",
        "  except:\n",
        "    pass\n",
        "f.close()"
      ],
      "execution_count": null,
      "outputs": [
        {
          "output_type": "stream",
          "text": [
            "Enter the rollno1\n",
            "Enter nameabc\n",
            "Enter age14\n",
            "Do you want to enter more records(y/n)?y\n",
            "Enter the rollno5\n",
            "Enter nameasdf\n",
            "Enter age75\n",
            "Do you want to enter more records(y/n)?n\n"
          ],
          "name": "stdout"
        }
      ]
    },
    {
      "cell_type": "code",
      "metadata": {
        "colab": {
          "base_uri": "https://localhost:8080/"
        },
        "id": "otnJv0vGix_q",
        "outputId": "148447f4-052d-42a1-bdc1-ea4c7a02fd72"
      },
      "source": [
        "import pickle\n",
        "f=open('customer.dat','wb')\n",
        "ch='y'\n",
        "while ch=='y':\n",
        "  l=[]\n",
        "  name=input(\"enter name\")\n",
        "  desg=input('enter designation')\n",
        "  salary=int(input('enter salary'))\n",
        "  l.append(name)\n",
        "  l.append(desg)\n",
        "  l.append(salary)\n",
        "  pickle.dump(l,f)\n",
        "  ch=input('do you want to enter more records(y/n)?')\n",
        "  if ch=='y':\n",
        "    continue\n",
        "  else:\n",
        "    break\n",
        "f.close()\n",
        "f=open('customer.dat','rb')\n",
        "try:\n",
        "  while True:\n",
        "    l=pickle.load(f)\n",
        "    if l[0].endswith('h'):\n",
        "      print(l[0])\n",
        "except:\n",
        "  pass"
      ],
      "execution_count": null,
      "outputs": [
        {
          "output_type": "stream",
          "text": [
            "enter nameqwe\n",
            "enter designationqwe\n",
            "enter salary1\n",
            "do you want to enter more records(y/n)?y\n",
            "enter nameasd\n",
            "enter designationasd\n",
            "enter salary4\n",
            "do you want to enter more records(y/n)?n\n"
          ],
          "name": "stdout"
        }
      ]
    },
    {
      "cell_type": "code",
      "metadata": {
        "id": "ZjdDLqnAk3oK",
        "colab": {
          "base_uri": "https://localhost:8080/",
          "height": 283
        },
        "outputId": "0bfc3f6a-5206-4201-9351-225126bdf574"
      },
      "source": [
        "import csv\n",
        "import pickle\n",
        "f=open('employee.csv','w')\n",
        "ch='y'\n",
        "while ch=='y':\n",
        "  l=[]\n",
        "  no=int(input('Enter rollno'))\n",
        "  name=input('Enter name')\n",
        "  salary=int(input('Enter salary'))\n",
        "  l.append(no)\n",
        "  l.append(name)\n",
        "  l.append(salary)\n",
        "  pickle.dump(l,f)\n",
        "  ch=input('Do you want ot continue?(Y/n)')\n",
        "  if ch=='y':\n",
        "    continue\n",
        "  else:\n",
        "    break\n",
        "f.close()\n",
        "f=open('employee.csv','w')\n",
        "sum=0\n",
        "try:\n",
        "  while True:\n",
        "    sum+=f[3]\n",
        "except:\n",
        "  pass\n",
        "f.close()"
      ],
      "execution_count": null,
      "outputs": [
        {
          "output_type": "stream",
          "text": [
            "Enter rollno5\n",
            "Enter nameas\n",
            "Enter salary5\n"
          ],
          "name": "stdout"
        },
        {
          "output_type": "error",
          "ename": "TypeError",
          "evalue": "ignored",
          "traceback": [
            "\u001b[0;31m---------------------------------------------------------------------------\u001b[0m",
            "\u001b[0;31mTypeError\u001b[0m                                 Traceback (most recent call last)",
            "\u001b[0;32m<ipython-input-4-c39207f1e923>\u001b[0m in \u001b[0;36m<module>\u001b[0;34m()\u001b[0m\n\u001b[1;32m     11\u001b[0m   \u001b[0ml\u001b[0m\u001b[0;34m.\u001b[0m\u001b[0mappend\u001b[0m\u001b[0;34m(\u001b[0m\u001b[0mname\u001b[0m\u001b[0;34m)\u001b[0m\u001b[0;34m\u001b[0m\u001b[0;34m\u001b[0m\u001b[0m\n\u001b[1;32m     12\u001b[0m   \u001b[0ml\u001b[0m\u001b[0;34m.\u001b[0m\u001b[0mappend\u001b[0m\u001b[0;34m(\u001b[0m\u001b[0msalary\u001b[0m\u001b[0;34m)\u001b[0m\u001b[0;34m\u001b[0m\u001b[0;34m\u001b[0m\u001b[0m\n\u001b[0;32m---> 13\u001b[0;31m   \u001b[0mpickle\u001b[0m\u001b[0;34m.\u001b[0m\u001b[0mdump\u001b[0m\u001b[0;34m(\u001b[0m\u001b[0ml\u001b[0m\u001b[0;34m,\u001b[0m\u001b[0mf\u001b[0m\u001b[0;34m)\u001b[0m\u001b[0;34m\u001b[0m\u001b[0;34m\u001b[0m\u001b[0m\n\u001b[0m\u001b[1;32m     14\u001b[0m   \u001b[0mch\u001b[0m\u001b[0;34m=\u001b[0m\u001b[0minput\u001b[0m\u001b[0;34m(\u001b[0m\u001b[0;34m'Do you want ot continue?(Y/n)'\u001b[0m\u001b[0;34m)\u001b[0m\u001b[0;34m\u001b[0m\u001b[0;34m\u001b[0m\u001b[0m\n\u001b[1;32m     15\u001b[0m   \u001b[0;32mif\u001b[0m \u001b[0mch\u001b[0m\u001b[0;34m==\u001b[0m\u001b[0;34m'y'\u001b[0m\u001b[0;34m:\u001b[0m\u001b[0;34m\u001b[0m\u001b[0;34m\u001b[0m\u001b[0m\n",
            "\u001b[0;31mTypeError\u001b[0m: write() argument must be str, not bytes"
          ]
        }
      ]
    },
    {
      "cell_type": "code",
      "metadata": {
        "id": "VGFGHGHKYXVA"
      },
      "source": [
        ""
      ],
      "execution_count": null,
      "outputs": []
    }
  ]
}