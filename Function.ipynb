{
  "nbformat": 4,
  "nbformat_minor": 0,
  "metadata": {
    "colab": {
      "name": "Function.ipynb",
      "provenance": [],
      "collapsed_sections": [],
      "authorship_tag": "ABX9TyOaqYEe9lGz0+GlXitbJsS4",
      "include_colab_link": true
    },
    "kernelspec": {
      "name": "python3",
      "display_name": "Python 3"
    }
  },
  "cells": [
    {
      "cell_type": "markdown",
      "metadata": {
        "id": "view-in-github",
        "colab_type": "text"
      },
      "source": [
        "<a href=\"https://colab.research.google.com/github/shivanshsinghx365/Public/blob/main/Function.ipynb\" target=\"_parent\"><img src=\"https://colab.research.google.com/assets/colab-badge.svg\" alt=\"Open In Colab\"/></a>"
      ]
    },
    {
      "cell_type": "markdown",
      "metadata": {
        "id": "STJtuKFMuONf"
      },
      "source": [
        "ACTUAL & FORMAL PARAMETERS\r\n",
        "\r\n",
        "the parameter which appears in the function call are actual parameters\r\n",
        "\r\n",
        "formal parameters appears in the function definition\r\n",
        "\r\n",
        "there are 4 types of argument or actual paprameters:\r\n",
        "\r\n",
        "1.positional argument\r\n",
        "\r\n",
        "2.default argument\r\n",
        "\r\n",
        "3.keyword argument\r\n",
        "\r\n",
        "4.variable length argument"
      ]
    },
    {
      "cell_type": "code",
      "metadata": {
        "colab": {
          "base_uri": "https://localhost:8080/"
        },
        "id": "EKU1ZQbwuJbN",
        "outputId": "117b7a12-2c9f-4632-eb0e-69d1179d48aa"
      },
      "source": [
        "#write a program to illustrate the working of positional arguments\r\n",
        "def divide(a,b):      #formal parameters are a & b\r\n",
        "  c=a//b\r\n",
        "  return c\r\n",
        "x=int(input('Enter a number'))\r\n",
        "y=int(input('Enter a number'))\r\n",
        "z=divide(x,y)        #actual parameters are x & y\r\n",
        "print(z)"
      ],
      "execution_count": null,
      "outputs": [
        {
          "output_type": "stream",
          "text": [
            "Enter a number45\n",
            "Enter a number15\n",
            "3\n"
          ],
          "name": "stdout"
        }
      ]
    },
    {
      "cell_type": "code",
      "metadata": {
        "colab": {
          "base_uri": "https://localhost:8080/"
        },
        "id": "brSlNns6vvwq",
        "outputId": "045ba2f6-1176-40b3-df2a-2fe06e65307e"
      },
      "source": [
        "#write a program to illustrate the working of default arguments\r\n",
        "#default arguments are the argumnets which are provided to the formal\r\n",
        "def si(p,r=0.02,t=2):   #default values are assigned to r & t\r\n",
        "  return (p*r*t)\r\n",
        "p=int(input('Enter the principle amount '))\r\n",
        "r=float(input('Enter the rate '))\r\n",
        "t=int(input('Enter the time '))\r\n",
        "print('function called with single argument, ans =',si(p))\r\n",
        "print('function called with two argument, ans =',si(p,r))\r\n",
        "print('function called with all argument, ans =',si(p,r,t))"
      ],
      "execution_count": null,
      "outputs": [
        {
          "output_type": "stream",
          "text": [
            "Enter the principle amount 1000\n",
            "Enter the rate 0.03\n",
            "Enter the time 5\n",
            "function called with single argument, ans = 40.0\n",
            "function called with two argument, ans = 60.0\n",
            "function called with all argument, ans = 150.0\n"
          ],
          "name": "stdout"
        }
      ]
    },
    {
      "cell_type": "code",
      "metadata": {
        "colab": {
          "base_uri": "https://localhost:8080/"
        },
        "id": "3yG1Zr3_x4kv",
        "outputId": "f2385cf8-f673-43d4-a828-a388bd041799"
      },
      "source": [
        "#write a program to illustrate the working of keywords arguments\r\n",
        "def drawline(s,t=30):\r\n",
        "  for i in range(t):\r\n",
        "    print(s,end=' ')\r\n",
        "  print()\r\n",
        "drawline('*',40)\r\n",
        "drawline('@')\r\n",
        "drawline(t=10,s=\"*\")\r\n",
        "drawline('#',t=20)"
      ],
      "execution_count": null,
      "outputs": [
        {
          "output_type": "stream",
          "text": [
            "* * * * * * * * * * * * * * * * * * * * * * * * * * * * * * * * * * * * * * * * \n",
            "@ @ @ @ @ @ @ @ @ @ @ @ @ @ @ @ @ @ @ @ @ @ @ @ @ @ @ @ @ @ \n",
            "* * * * * * * * * * \n",
            "# # # # # # # # # # # # # # # # # # # # \n"
          ],
          "name": "stdout"
        }
      ]
    },
    {
      "cell_type": "code",
      "metadata": {
        "colab": {
          "base_uri": "https://localhost:8080/"
        },
        "id": "Cp8J1RvhznFJ",
        "outputId": "4148933e-d843-42ff-f3aa-9ad1e4e106ce"
      },
      "source": [
        "#this is also the concept of packing of data\r\n",
        "#write a program to illustrate the working of variable length arguments in python function\r\n",
        "def add(x,y,z):\r\n",
        "  return x+10,y+10,z+10\r\n",
        "a=int(input('Enter the first number '))\r\n",
        "b=int(input('Enter the second number '))\r\n",
        "c=int(input('Enter the third number '))\r\n",
        "k=add(a,b,c)  #since 3 variables are coming from the function the data type of k will be a tuple\r\n",
        "print(k)"
      ],
      "execution_count": null,
      "outputs": [
        {
          "output_type": "stream",
          "text": [
            "Enter the first number 2\n",
            "Enter the second number 3\n",
            "Enter the third number 4\n",
            "(12, 13, 14)\n"
          ],
          "name": "stdout"
        }
      ]
    },
    {
      "cell_type": "code",
      "metadata": {
        "colab": {
          "base_uri": "https://localhost:8080/"
        },
        "id": "KfyUlLHV1AIq",
        "outputId": "39fe9425-27e0-4293-e9d6-0de9ca968212"
      },
      "source": [
        "def add(x,y,z):\r\n",
        "  return x+10,y+10,z+10\r\n",
        "a=int(input('Enter the first number '))\r\n",
        "b=int(input('Enter the second number '))\r\n",
        "c=int(input('Enter the third number '))\r\n",
        "p,q,r=add(a,b,c)      #this is called unpacking of multiple arguments\r\n",
        "print(p)\r\n",
        "print(q)\r\n",
        "print(r)"
      ],
      "execution_count": null,
      "outputs": [
        {
          "output_type": "stream",
          "text": [
            "Enter the first number 6\n",
            "Enter the second number 8\n",
            "Enter the third number 3\n",
            "16\n",
            "18\n",
            "13\n"
          ],
          "name": "stdout"
        }
      ]
    },
    {
      "cell_type": "code",
      "metadata": {
        "id": "VDVXlMiX1z7k",
        "colab": {
          "base_uri": "https://localhost:8080/"
        },
        "outputId": "e242204a-2f2c-45b8-c8e6-44df6a4d3dd9"
      },
      "source": [
        "#illustrate the working of local and global variables\r\n",
        "def area(l,b):   #formal parameters\r\n",
        "  a=l*b\r\n",
        "  return a       #a is a local variable that is declared inside a function\r\n",
        "def showarea():\r\n",
        "  print('the area is equal to ',ar)   #ar is accessible in the function because its a global variable & it is declared in the main program\r\n",
        "l=int(input('Enter the length '))\r\n",
        "b=int(input('Enter the breadth '))\r\n",
        "ar=area(l,b)\r\n",
        "showarea()"
      ],
      "execution_count": null,
      "outputs": [
        {
          "output_type": "stream",
          "text": [
            "Enter the length 3\n",
            "Enter the breadth 4\n",
            "the area is equal to  12\n"
          ],
          "name": "stdout"
        }
      ]
    },
    {
      "cell_type": "code",
      "metadata": {
        "colab": {
          "base_uri": "https://localhost:8080/"
        },
        "id": "vxLvJiZT-c4L",
        "outputId": "62f834c9-50f6-4dcf-877a-f466d092ed06"
      },
      "source": [
        "#write a prgram to illustrate the keyword global in a program\r\n",
        "#Global keyword is used inside the function\r\n",
        "#when we write the keyword global which means function and the main the program is sharing one location\r\n",
        "def check():\r\n",
        "  global value\r\n",
        "  value=100\r\n",
        "  print(value)\r\n",
        "value=600\r\n",
        "print(value)\r\n",
        "check()\r\n",
        "print(value)"
      ],
      "execution_count": null,
      "outputs": [
        {
          "output_type": "stream",
          "text": [
            "600\n",
            "100\n",
            "100\n"
          ],
          "name": "stdout"
        }
      ]
    },
    {
      "cell_type": "code",
      "metadata": {
        "colab": {
          "base_uri": "https://localhost:8080/"
        },
        "id": "FFJcG8uS_j-Q",
        "outputId": "0230fbf3-86cb-4672-c1f0-1ea6ebe6fd51"
      },
      "source": [
        "#write a function which will take a string as argument and count how many vowels are present in the string\r\n",
        "def vowel(s):\r\n",
        "  k=0\r\n",
        "  for i in s:\r\n",
        "    if i=='a' or i=='e' or i=='i' or i=='o' or i=='u':\r\n",
        "      k+=1\r\n",
        "    if i=='A' or i=='E' or i=='I' or i=='O' or i=='U':\r\n",
        "      k+=1\r\n",
        "  print('Number of vowels=',k)\r\n",
        "s=input('Enter string ')\r\n",
        "vowel(s)"
      ],
      "execution_count": null,
      "outputs": [
        {
          "output_type": "stream",
          "text": [
            "Enter string xtreme\n",
            "Number of vowels= 2\n"
          ],
          "name": "stdout"
        }
      ]
    },
    {
      "cell_type": "code",
      "metadata": {
        "colab": {
          "base_uri": "https://localhost:8080/"
        },
        "id": "BcWomcQ5A_s7",
        "outputId": "f8c32c9b-6d42-4266-ae6a-a3d13310d57f"
      },
      "source": [
        "#write a program to accept a string, and print the jumbled string\r\n",
        "#Passing a string to a function\r\n",
        "s=input('Enter string ')\r\n",
        "m=''\r\n",
        "for i in s:\r\n",
        "  if i.islower():\r\n",
        "    i=i.upper()\r\n",
        "  elif i.isupper():\r\n",
        "    i=i.lower()\r\n",
        "  else:\r\n",
        "    i=i\r\n",
        "  m+=i\r\n",
        "print(m)"
      ],
      "execution_count": null,
      "outputs": [
        {
          "output_type": "stream",
          "text": [
            "Enter string #Wings On Fire!\n",
            "#wINGS oN fIRE!\n"
          ],
          "name": "stdout"
        }
      ]
    },
    {
      "cell_type": "code",
      "metadata": {
        "colab": {
          "base_uri": "https://localhost:8080/"
        },
        "id": "PqXzEoAfCppQ",
        "outputId": "f89145c7-c9fd-44dc-aada-ee82dd8ae21a"
      },
      "source": [
        "#write a program to pass a list to the funtion, add 2 to all the even values add 1 to all the odd values of the list\r\n",
        "s=eval(input('Enter a numerical list '))\r\n",
        "m=[]\r\n",
        "for i in s:\r\n",
        "  if i%2==0:\r\n",
        "    m.append(i+2)\r\n",
        "  else:\r\n",
        "    m.append(i+1)\r\n",
        "print('new list is ',m)"
      ],
      "execution_count": null,
      "outputs": [
        {
          "output_type": "stream",
          "text": [
            "Enter a numerical list [1,2,3,4,5,6,7]\n",
            "new list is  [2, 4, 4, 6, 6, 8, 8]\n"
          ],
          "name": "stdout"
        }
      ]
    },
    {
      "cell_type": "code",
      "metadata": {
        "colab": {
          "base_uri": "https://localhost:8080/"
        },
        "id": "MW25-VheF3sW",
        "outputId": "0822ffb1-4cfa-4b57-c4a4-110ba31ed9c3"
      },
      "source": [
        "#input n numbers to a tuple and pass this tuple to a function and count how many even and odd numbers are present in the tuple\r\n",
        "def count(t):\r\n",
        "  a=0\r\n",
        "  b=0\r\n",
        "  for i in t:\r\n",
        "    if i%2==0:\r\n",
        "      a+=1\r\n",
        "    else:\r\n",
        "      b+=1\r\n",
        "  return a,b\r\n",
        "t=()\r\n",
        "n=int(input('How many numbers you want to enter '))\r\n",
        "for i in range(n):\r\n",
        "  k=int(input('Enter a number to be entered '))\r\n",
        "  t+=(k,)\r\n",
        "a,b=count(t)\r\n",
        "print('the total number of even number is ',a)\r\n",
        "print('The total number of odd number is ',b)"
      ],
      "execution_count": null,
      "outputs": [
        {
          "output_type": "stream",
          "text": [
            "How many numbers you want to enter5\n",
            "Enter a number to be entered1\n",
            "Enter a number to be entered2\n",
            "Enter a number to be entered3\n",
            "Enter a number to be entered4\n",
            "Enter a number to be entered5\n",
            "the total number of even number is  2\n",
            "The total number of odd number is  3\n"
          ],
          "name": "stdout"
        }
      ]
    },
    {
      "cell_type": "code",
      "metadata": {
        "colab": {
          "base_uri": "https://localhost:8080/"
        },
        "id": "4VBCGaWLMX2f",
        "outputId": "e862fecc-ed67-4217-839a-40d92cf91cd4"
      },
      "source": [
        "#Write a program to pass dictionary key and value and update the values based on the key passed\r\n",
        "def update(d,key,value):\r\n",
        "  d[key]=value\r\n",
        "d={'rollno':1,'name':'xtremix','percentage':97}\r\n",
        "print('1.Update rollno')\r\n",
        "print('2.Update name')\r\n",
        "print('3.Update percentage')\r\n",
        "choice=int(input('Enter yor choice '))\r\n",
        "if choice==1:\r\n",
        "  p=int(input('Enter new rollno '))\r\n",
        "  key='rollno'\r\n",
        "elif choice==2:\r\n",
        "  p=input('Enter new name')\r\n",
        "  key='name'\r\n",
        "elif choice==3:\r\n",
        "  p=int(input('Enter the new percentage'))\r\n",
        "  key='percentage'\r\n",
        "else:\r\n",
        "  print('Error: Wrong Choice')\r\n",
        "update(d,key,p)"
      ],
      "execution_count": null,
      "outputs": [
        {
          "output_type": "stream",
          "text": [
            "1.Update rollno\n",
            "2.Update name\n",
            "3.Update percentage\n",
            "Enter yor choice 1\n",
            "Enter new rollno 7\n"
          ],
          "name": "stdout"
        }
      ]
    },
    {
      "cell_type": "code",
      "metadata": {
        "id": "-CXGiwTARJgF"
      },
      "source": [
        ""
      ],
      "execution_count": null,
      "outputs": []
    }
  ]
}